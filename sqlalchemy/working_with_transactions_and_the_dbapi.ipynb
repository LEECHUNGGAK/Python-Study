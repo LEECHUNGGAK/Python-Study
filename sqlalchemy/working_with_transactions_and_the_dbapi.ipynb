{
 "cells": [
  {
   "cell_type": "markdown",
   "metadata": {},
   "source": [
    "# 연결 설정하기"
   ]
  },
  {
   "cell_type": "code",
   "execution_count": 1,
   "metadata": {},
   "outputs": [
    {
     "name": "stdout",
     "output_type": "stream",
     "text": [
      "2023-12-13 09:11:21,726 INFO sqlalchemy.engine.Engine BEGIN (implicit)\n",
      "2023-12-13 09:11:21,727 INFO sqlalchemy.engine.Engine SELECT 'hello world'\n",
      "2023-12-13 09:11:21,728 INFO sqlalchemy.engine.Engine [generated in 0.00280s] ()\n",
      "[('hello world',)]\n",
      "2023-12-13 09:11:21,730 INFO sqlalchemy.engine.Engine ROLLBACK\n"
     ]
    }
   ],
   "source": [
    "from sqlalchemy import create_engine\n",
    "from sqlalchemy import text\n",
    "\n",
    "engine = create_engine(\"sqlite+pysqlite:///:memory:\", echo=True)\n",
    "\n",
    "with engine.connect() as conn:\n",
    "    result = conn.execute(text(\"SELECT 'hello world'\"))\n",
    "    print(result.all())"
   ]
  },
  {
   "cell_type": "markdown",
   "metadata": {},
   "source": [
    "# 변경 사항 커밋하기\n",
    "### Commit as you go"
   ]
  },
  {
   "cell_type": "code",
   "execution_count": 2,
   "metadata": {},
   "outputs": [
    {
     "name": "stdout",
     "output_type": "stream",
     "text": [
      "2023-12-13 09:11:21,744 INFO sqlalchemy.engine.Engine BEGIN (implicit)\n",
      "2023-12-13 09:11:21,746 INFO sqlalchemy.engine.Engine CREATE TABLE some_table (x int, y int)\n",
      "2023-12-13 09:11:21,747 INFO sqlalchemy.engine.Engine [generated in 0.00334s] ()\n",
      "2023-12-13 09:11:21,751 INFO sqlalchemy.engine.Engine INSERT INTO some_table (x, y) VALUES (?, ?)\n",
      "2023-12-13 09:11:21,752 INFO sqlalchemy.engine.Engine [generated in 0.00170s] [(1, 1), (2, 4)]\n",
      "2023-12-13 09:11:21,753 INFO sqlalchemy.engine.Engine COMMIT\n"
     ]
    }
   ],
   "source": [
    "with engine.connect() as conn:\n",
    "    conn.execute(text(\"CREATE TABLE some_table (x int, y int)\"))\n",
    "    conn.execute(\n",
    "        text(\"INSERT INTO some_table (x, y) VALUES (:x, :y)\"),\n",
    "        [\n",
    "            {\"x\": 1, \"y\": 1},\n",
    "            {\"x\": 2, \"y\": 4}\n",
    "        ]\n",
    "    )\n",
    "    conn.commit()"
   ]
  },
  {
   "cell_type": "markdown",
   "metadata": {},
   "source": [
    "### Begin once"
   ]
  },
  {
   "cell_type": "code",
   "execution_count": 3,
   "metadata": {},
   "outputs": [
    {
     "name": "stdout",
     "output_type": "stream",
     "text": [
      "2023-12-13 09:11:21,769 INFO sqlalchemy.engine.Engine BEGIN (implicit)\n",
      "2023-12-13 09:11:21,771 INFO sqlalchemy.engine.Engine INSERT INTO some_table (x, y) VALUES (?, ?)\n",
      "2023-12-13 09:11:21,771 INFO sqlalchemy.engine.Engine [cached since 0.0207s ago] [(6, 8), (9, 10)]\n",
      "2023-12-13 09:11:21,772 INFO sqlalchemy.engine.Engine COMMIT\n"
     ]
    }
   ],
   "source": [
    "with engine.begin() as conn:\n",
    "    conn.execute(\n",
    "        text(\"INSERT INTO some_table (x, y) VALUES (:x, :y)\"),\n",
    "        [\n",
    "            {\"x\": 6, \"y\": 8},\n",
    "            {\"x\": 9, \"y\": 10}\n",
    "        ]\n",
    "    )"
   ]
  },
  {
   "cell_type": "markdown",
   "metadata": {},
   "source": [
    "# SQL 문 실행하기\n",
    "## 행 가져오기"
   ]
  },
  {
   "cell_type": "code",
   "execution_count": 4,
   "metadata": {},
   "outputs": [
    {
     "name": "stdout",
     "output_type": "stream",
     "text": [
      "2023-12-13 09:11:21,787 INFO sqlalchemy.engine.Engine BEGIN (implicit)\n",
      "2023-12-13 09:11:21,788 INFO sqlalchemy.engine.Engine SELECT x, y FROM some_table\n",
      "2023-12-13 09:11:21,789 INFO sqlalchemy.engine.Engine [generated in 0.00236s] ()\n",
      "x: 1 y: 1\n",
      "x: 2 y: 4\n",
      "x: 6 y: 8\n",
      "x: 9 y: 10\n",
      "2023-12-13 09:11:21,791 INFO sqlalchemy.engine.Engine ROLLBACK\n"
     ]
    }
   ],
   "source": [
    "with engine.connect() as conn:\n",
    "    result = conn.execute(text(\"SELECT x, y FROM some_table\"))\n",
    "    for row in result:\n",
    "        print(f\"x: {row.x} y: {row.y}\")"
   ]
  },
  {
   "cell_type": "markdown",
   "metadata": {},
   "source": [
    "여러 변수에 할당하여 행에 접근하기"
   ]
  },
  {
   "cell_type": "code",
   "execution_count": 5,
   "metadata": {},
   "outputs": [
    {
     "name": "stdout",
     "output_type": "stream",
     "text": [
      "2023-12-13 10:17:08,734 INFO sqlalchemy.engine.Engine BEGIN (implicit)\n",
      "2023-12-13 10:17:08,736 INFO sqlalchemy.engine.Engine SELECT x, y FROM some_table\n",
      "2023-12-13 10:17:08,737 INFO sqlalchemy.engine.Engine [cached since 3947s ago] ()\n",
      "x: 1 y: 1\n",
      "x: 2 y: 4\n",
      "x: 6 y: 8\n",
      "x: 9 y: 10\n",
      "2023-12-13 10:17:08,740 INFO sqlalchemy.engine.Engine ROLLBACK\n"
     ]
    }
   ],
   "source": [
    "with engine.connect() as conn:\n",
    "    result = conn.execute(text(\"SELECT x, y FROM some_table\"))\n",
    "    for x, y in result:\n",
    "        print(f\"x: {x} y: {y}\")"
   ]
  },
  {
   "cell_type": "markdown",
   "metadata": {},
   "source": [
    "정수 인덱스로 행에 접근하기"
   ]
  },
  {
   "cell_type": "code",
   "execution_count": 6,
   "metadata": {},
   "outputs": [
    {
     "name": "stdout",
     "output_type": "stream",
     "text": [
      "2023-12-13 10:21:52,370 INFO sqlalchemy.engine.Engine BEGIN (implicit)\n",
      "2023-12-13 10:21:52,371 INFO sqlalchemy.engine.Engine SELECT x, y FROM some_table\n",
      "2023-12-13 10:21:52,371 INFO sqlalchemy.engine.Engine [cached since 4231s ago] ()\n",
      "x: 1 y: 1\n",
      "x: 2 y: 4\n",
      "x: 6 y: 8\n",
      "x: 9 y: 10\n",
      "2023-12-13 10:21:52,372 INFO sqlalchemy.engine.Engine ROLLBACK\n"
     ]
    }
   ],
   "source": [
    "with engine.connect() as conn:\n",
    "    result = conn.execute(text(\"SELECT x, y FROM some_table\"))\n",
    "    for row in result:\n",
    "        x = row[0]\n",
    "        y = row[1]\n",
    "        print(f\"x: {x} y: {y}\")"
   ]
  },
  {
   "cell_type": "markdown",
   "metadata": {},
   "source": [
    "속성 이름으로 행에 접근하기"
   ]
  },
  {
   "cell_type": "code",
   "execution_count": 7,
   "metadata": {},
   "outputs": [
    {
     "name": "stdout",
     "output_type": "stream",
     "text": [
      "2023-12-13 10:23:08,963 INFO sqlalchemy.engine.Engine BEGIN (implicit)\n",
      "2023-12-13 10:23:08,964 INFO sqlalchemy.engine.Engine SELECT x, y FROM some_table\n",
      "2023-12-13 10:23:08,965 INFO sqlalchemy.engine.Engine [cached since 4307s ago] ()\n",
      "x: 1 y: 1\n",
      "x: 2 y: 4\n",
      "x: 6 y: 8\n",
      "x: 9 y: 10\n",
      "2023-12-13 10:23:08,966 INFO sqlalchemy.engine.Engine ROLLBACK\n"
     ]
    }
   ],
   "source": [
    "with engine.connect() as conn:\n",
    "    result = conn.execute(text(\"SELECT x, y FROM some_table\"))\n",
    "    for row in result:\n",
    "        x = row.x\n",
    "        y = row.y\n",
    "        print(f\"x: {x} y: {y}\")"
   ]
  },
  {
   "cell_type": "markdown",
   "metadata": {},
   "source": [
    "매핑 객체로 행에 접근하기"
   ]
  },
  {
   "cell_type": "code",
   "execution_count": 9,
   "metadata": {},
   "outputs": [
    {
     "name": "stdout",
     "output_type": "stream",
     "text": [
      "2023-12-13 10:23:59,123 INFO sqlalchemy.engine.Engine BEGIN (implicit)\n",
      "2023-12-13 10:23:59,124 INFO sqlalchemy.engine.Engine SELECT x, y FROM some_table\n",
      "2023-12-13 10:23:59,125 INFO sqlalchemy.engine.Engine [cached since 4357s ago] ()\n",
      "x: 1 y: 1\n",
      "x: 2 y: 4\n",
      "x: 6 y: 8\n",
      "x: 9 y: 10\n",
      "2023-12-13 10:23:59,127 INFO sqlalchemy.engine.Engine ROLLBACK\n"
     ]
    }
   ],
   "source": [
    "with engine.connect() as conn:\n",
    "    result = conn.execute(text(\"SELECT x, y FROM some_table\"))\n",
    "    for dict_row in result.mappings():\n",
    "        x = dict_row[\"x\"]\n",
    "        y = dict_row[\"y\"]\n",
    "        print(f\"x: {x} y: {y}\")"
   ]
  },
  {
   "cell_type": "markdown",
   "metadata": {},
   "source": [
    "매개 변수 전달하기"
   ]
  },
  {
   "cell_type": "code",
   "execution_count": 10,
   "metadata": {},
   "outputs": [
    {
     "name": "stdout",
     "output_type": "stream",
     "text": [
      "2023-12-13 11:08:05,346 INFO sqlalchemy.engine.Engine BEGIN (implicit)\n",
      "2023-12-13 11:08:05,347 INFO sqlalchemy.engine.Engine SELECT x, y FROM some_table WHERE y > ?\n",
      "2023-12-13 11:08:05,347 INFO sqlalchemy.engine.Engine [generated in 0.00172s] (2,)\n",
      "x: 2 y: 4\n",
      "x: 6 y: 8\n",
      "x: 9 y: 10\n",
      "2023-12-13 11:08:05,348 INFO sqlalchemy.engine.Engine ROLLBACK\n"
     ]
    }
   ],
   "source": [
    "with engine.connect() as conn:\n",
    "    result = conn.execute(\n",
    "        text(\"SELECT x, y FROM some_table WHERE y > :y\"),\n",
    "        {\"y\": 2}\n",
    "    )\n",
    "    for x, y in result:\n",
    "        print(f\"x: {x} y: {y}\")"
   ]
  },
  {
   "cell_type": "markdown",
   "metadata": {},
   "source": [
    "여러 매개 변수 전달하기"
   ]
  },
  {
   "cell_type": "code",
   "execution_count": 11,
   "metadata": {},
   "outputs": [
    {
     "name": "stdout",
     "output_type": "stream",
     "text": [
      "2023-12-13 13:33:56,173 INFO sqlalchemy.engine.Engine BEGIN (implicit)\n",
      "2023-12-13 13:33:56,175 INFO sqlalchemy.engine.Engine INSERT INTO some_table (x, y) VALUES (?, ?)\n",
      "2023-12-13 13:33:56,176 INFO sqlalchemy.engine.Engine [cached since 1.575e+04s ago] [(11, 12), (13, 14)]\n",
      "2023-12-13 13:33:56,177 INFO sqlalchemy.engine.Engine COMMIT\n"
     ]
    }
   ],
   "source": [
    "with engine.connect() as conn:\n",
    "    conn.execute(\n",
    "        text(\"INSERT INTO some_table (x, y) VALUES (:x, :y)\"),\n",
    "        [\n",
    "            {\"x\": 11, \"y\": 12},\n",
    "            {\"x\": 13, \"y\": 14}\n",
    "        ]\n",
    "    )\n",
    "    conn.commit()"
   ]
  },
  {
   "cell_type": "code",
   "execution_count": 12,
   "metadata": {},
   "outputs": [
    {
     "name": "stdout",
     "output_type": "stream",
     "text": [
      "2023-12-13 16:06:08,023 INFO sqlalchemy.engine.Engine BEGIN (implicit)\n",
      "2023-12-13 16:06:08,026 INFO sqlalchemy.engine.Engine SELECT x, y FROM some_table WHERE y > ? ORDER BY x, y\n",
      "2023-12-13 16:06:08,027 INFO sqlalchemy.engine.Engine [generated in 0.00134s] (6,)\n",
      "x: 6 y: 8\n",
      "x: 9 y: 10\n",
      "x: 11 y: 12\n",
      "x: 13 y: 14\n",
      "2023-12-13 16:06:08,029 INFO sqlalchemy.engine.Engine ROLLBACK\n"
     ]
    }
   ],
   "source": [
    "from sqlalchemy.orm import Session\n",
    "\n",
    "\n",
    "stmt = text(\"SELECT x, y FROM some_table WHERE y > :y ORDER BY x, y\")\n",
    "\n",
    "with Session(engine) as session:\n",
    "    result = session.execute(stmt, {\"y\": 6})\n",
    "    for row in result:\n",
    "        print(f\"x: {row.x} y: {row.y}\")"
   ]
  },
  {
   "cell_type": "code",
   "execution_count": 13,
   "metadata": {},
   "outputs": [
    {
     "name": "stdout",
     "output_type": "stream",
     "text": [
      "2023-12-13 16:20:15,939 INFO sqlalchemy.engine.Engine BEGIN (implicit)\n",
      "2023-12-13 16:20:15,941 INFO sqlalchemy.engine.Engine UPDATE some_table SET y = ? WHERE x = ?\n",
      "2023-12-13 16:20:15,942 INFO sqlalchemy.engine.Engine [generated in 0.00117s] [(11, 9), (15, 13)]\n",
      "2023-12-13 16:20:15,943 INFO sqlalchemy.engine.Engine COMMIT\n"
     ]
    }
   ],
   "source": [
    "with Session(engine) as session:\n",
    "    result = session.execute(\n",
    "        text(\"UPDATE some_table SET y = :y WHERE x = :x\"),\n",
    "        [\n",
    "            {\"x\": 9, \"y\": 11},\n",
    "            {\"x\": 13, \"y\": 15}\n",
    "        ]\n",
    "    )\n",
    "    session.commit()"
   ]
  }
 ],
 "metadata": {
  "kernelspec": {
   "display_name": "venv",
   "language": "python",
   "name": "python3"
  },
  "language_info": {
   "codemirror_mode": {
    "name": "ipython",
    "version": 3
   },
   "file_extension": ".py",
   "mimetype": "text/x-python",
   "name": "python",
   "nbconvert_exporter": "python",
   "pygments_lexer": "ipython3",
   "version": "3.11.7"
  }
 },
 "nbformat": 4,
 "nbformat_minor": 2
}
