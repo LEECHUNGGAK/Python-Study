{
 "cells": [
  {
   "cell_type": "markdown",
   "metadata": {},
   "source": [
    "# 연결 설정하기"
   ]
  },
  {
   "cell_type": "code",
   "execution_count": 1,
   "metadata": {},
   "outputs": [
    {
     "name": "stdout",
     "output_type": "stream",
     "text": [
      "2023-12-12 18:16:14,271 INFO sqlalchemy.engine.Engine BEGIN (implicit)\n",
      "2023-12-12 18:16:14,273 INFO sqlalchemy.engine.Engine SELECT 'hello world'\n",
      "2023-12-12 18:16:14,274 INFO sqlalchemy.engine.Engine [generated in 0.00247s] ()\n",
      "[('hello world',)]\n",
      "2023-12-12 18:16:14,275 INFO sqlalchemy.engine.Engine ROLLBACK\n"
     ]
    }
   ],
   "source": [
    "from sqlalchemy import create_engine\n",
    "from sqlalchemy import text\n",
    "\n",
    "engine = create_engine(\"sqlite+pysqlite:///:memory:\", echo=True)\n",
    "\n",
    "with engine.connect() as conn:\n",
    "    result = conn.execute(text(\"SELECT 'hello world'\"))\n",
    "    print(result.all())"
   ]
  },
  {
   "cell_type": "markdown",
   "metadata": {},
   "source": [
    "# 변경 사항 커밋하기\n",
    "### Commit as you go"
   ]
  },
  {
   "cell_type": "code",
   "execution_count": 2,
   "metadata": {},
   "outputs": [
    {
     "name": "stdout",
     "output_type": "stream",
     "text": [
      "2023-12-12 18:16:36,593 INFO sqlalchemy.engine.Engine BEGIN (implicit)\n",
      "2023-12-12 18:16:36,594 INFO sqlalchemy.engine.Engine CREATE TABLE some_table (x int, y int)\n",
      "2023-12-12 18:16:36,595 INFO sqlalchemy.engine.Engine [generated in 0.00153s] ()\n",
      "2023-12-12 18:16:36,596 INFO sqlalchemy.engine.Engine INSERT INTO some_table (x, y) VALUES (?, ?)\n",
      "2023-12-12 18:16:36,597 INFO sqlalchemy.engine.Engine [generated in 0.00073s] [(1, 1), (2, 4)]\n",
      "2023-12-12 18:16:36,598 INFO sqlalchemy.engine.Engine COMMIT\n"
     ]
    }
   ],
   "source": [
    "with engine.connect() as conn:\n",
    "    conn.execute(text(\"CREATE TABLE some_table (x int, y int)\"))\n",
    "    conn.execute(\n",
    "        text(\"INSERT INTO some_table (x, y) VALUES (:x, :y)\"),\n",
    "        [\n",
    "            {\"x\": 1, \"y\": 1},\n",
    "            {\"x\": 2, \"y\": 4}\n",
    "        ]\n",
    "    )\n",
    "    conn.commit()"
   ]
  },
  {
   "cell_type": "markdown",
   "metadata": {},
   "source": [
    "### Begin once"
   ]
  },
  {
   "cell_type": "code",
   "execution_count": 4,
   "metadata": {},
   "outputs": [
    {
     "name": "stdout",
     "output_type": "stream",
     "text": [
      "2023-12-12 18:17:11,631 INFO sqlalchemy.engine.Engine BEGIN (implicit)\n",
      "2023-12-12 18:17:11,633 INFO sqlalchemy.engine.Engine INSERT INTO some_table (x, y) VALUES (?, ?)\n",
      "2023-12-12 18:17:11,633 INFO sqlalchemy.engine.Engine [cached since 35.04s ago] [(6, 8), (9, 10)]\n",
      "2023-12-12 18:17:11,634 INFO sqlalchemy.engine.Engine COMMIT\n"
     ]
    }
   ],
   "source": [
    "with engine.begin() as conn:\n",
    "    conn.execute(\n",
    "        text(\"INSERT INTO some_table (x, y) VALUES (:x, :y)\"),\n",
    "        [\n",
    "            {\"x\": 6, \"y\": 8},\n",
    "            {\"x\": 9, \"y\": 10}\n",
    "        ]\n",
    "    )"
   ]
  },
  {
   "cell_type": "markdown",
   "metadata": {},
   "source": [
    "# SQL 문 실행하기\n",
    "## 행 가져오기"
   ]
  },
  {
   "cell_type": "code",
   "execution_count": null,
   "metadata": {},
   "outputs": [],
   "source": [
    "with engine.connect() as conn:\n",
    "    result = conn.execute(text(\"SELECT x, y FROM some_table\"))\n",
    "    for row in result:\n",
    "        print(f\"x: {row.x} y: {row.y}\")"
   ]
  }
 ],
 "metadata": {
  "kernelspec": {
   "display_name": "venv",
   "language": "python",
   "name": "python3"
  },
  "language_info": {
   "codemirror_mode": {
    "name": "ipython",
    "version": 3
   },
   "file_extension": ".py",
   "mimetype": "text/x-python",
   "name": "python",
   "nbconvert_exporter": "python",
   "pygments_lexer": "ipython3",
   "version": "3.11.7"
  }
 },
 "nbformat": 4,
 "nbformat_minor": 2
}
